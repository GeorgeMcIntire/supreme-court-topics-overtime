{
 "cells": [
  {
   "cell_type": "code",
   "execution_count": 1,
   "metadata": {
    "collapsed": true
   },
   "outputs": [],
   "source": [
    "from bs4 import BeautifulSoup\n",
    "import requests\n",
    "import re\n",
    "\n",
    "import pandas as pd\n",
    "import numpy as np"
   ]
  },
  {
   "cell_type": "markdown",
   "metadata": {},
   "source": [
    "## Creating a list of Supreme Court Opinions and their URLs\n",
    "I found that caselaw has a repository of Supreme Court ruling opinions spanning back over 100 years. This notebook contains the code I wrote to compile the list of these URLs and titles to use to grab the opinions.\n",
    "\n",
    "If you want the data I used for this project, you can start by running these cells. "
   ]
  },
  {
   "cell_type": "code",
   "execution_count": 2,
   "metadata": {
    "collapsed": true
   },
   "outputs": [],
   "source": [
    "root_url = \"http://caselaw.findlaw.com/court/us-supreme-court/years/\""
   ]
  },
  {
   "cell_type": "code",
   "execution_count": 24,
   "metadata": {
    "collapsed": false
   },
   "outputs": [],
   "source": [
    "years = [year for year in range(2016,2017)]\n",
    "soupurls = []\n",
    "souptitles = []\n",
    "yearlist = []\n",
    "for year in years:\n",
    "    search = root_url + str(year)\n",
    "    response = requests.get(search)\n",
    "    page = response.text\n",
    "    soup = BeautifulSoup(page, \"lxml\")\n",
    "    souped = soup.findAll(class_ = \"srpcaselawtr\")\n",
    "    souped = str(souped)\n",
    "    #souped = souped.findAll(\"td\", {\"valign\" : \"top\"})\n",
    "    souplist = soup.findAll(\"a\")\n",
    "    for i in souplist:\n",
    "        if re.search(\"us-supreme-court\", str(i)) and not re.search(\"years\", str(i)) and not re.search(\"/court/\", str(i)): \n",
    "            yearlist.append(year)\n",
    "            soupurls.append(i[\"href\"])\n",
    "            souptitles.append(i[\"title\"])\n"
   ]
  },
  {
   "cell_type": "code",
   "execution_count": 25,
   "metadata": {
    "collapsed": false
   },
   "outputs": [],
   "source": [
    "\n",
    "souped = souped.split('<td valign=\"top\">')\n"
   ]
  },
  {
   "cell_type": "code",
   "execution_count": 40,
   "metadata": {
    "collapsed": false
   },
   "outputs": [
    {
     "data": {
      "text/plain": [
       "['[<tr class=\"srpcaselawtr\">\\n',\n",
       " '<a href=\"http://caselaw.findlaw.com/us-supreme-court/15-584.html\" text-transform:uppercase=\"\" title=\"AMERICAN FREEDOM DEFENSE INITIATIVE, &lt;SPAN STYLE=\">&gt;AMERICAN FREEDOM DEFENSE INITIATIVE, <span style=\"TEXT-TRANSFORM: UPPERCASE\"><small>ET AL.</small></span> <em> v. </em> KING COUNTY, WASHINGTON</a></td>\\n',\n",
       " 'March 7, 2016</td>\\n',\n",
       " 'No. 15-584</td>\\n</tr>, <tr class=\"srpcaselawtr altrow\">\\n',\n",
       " '<a href=\"http://caselaw.findlaw.com/us-supreme-court/14-1382.html\" text-transform:uppercase=\"\" title=\"AMERICOLD REALTY TRUST &lt;EM&gt;v&lt;/EM&gt;. CONAGRA FOODS, INC., &lt;SPAN STYLE=\">&gt;AMERICOLD REALTY TRUST <em>v</em>. CONAGRA FOODS, INC., <span style=\"TEXT-TRANSFORM: UPPERCASE\"><small>ET AL.</small></span></a></td>\\n',\n",
       " 'March 7, 2016</td>\\n',\n",
       " 'No. 14-1382</td>\\n</tr>, <tr class=\"srpcaselawtr\">\\n',\n",
       " '<a href=\"http://caselaw.findlaw.com/us-supreme-court/15-278.html\" text-transform:uppercase=\"\" title=\"AMGEN INC., &lt;SPAN STYLE=\">&gt;AMGEN INC., <span style=\"TEXT-TRANSFORM: UPPERCASE\"><small>ET AL</small></span>. <em> v. </em> STEVE HARRIS, <span style=\"TEXT-TRANSFORM: UPPERCASE\"><small>ET AL</small></span>.</a></td>\\n',\n",
       " 'January 25, 2016</td>\\n',\n",
       " 'No. 15-278</td>\\n</tr>, <tr class=\"srpcaselawtr altrow\">\\n',\n",
       " '<a href=\"http://caselaw.findlaw.com/us-supreme-court/15-712.html\" title=\"ANNE MERCY KAKARALA &lt;EM&gt; v. &lt;/EM&gt; WELLS FARGO BANK, N. A.\">ANNE MERCY KAKARALA <em> v. </em> WELLS FARGO BANK, N. A.</a></td>\\n',\n",
       " 'April 4, 2016</td>\\n',\n",
       " 'No. 15-712</td>\\n</tr>, <tr class=\"srpcaselawtr\">\\n',\n",
       " '<a href=\"http://caselaw.findlaw.com/us-supreme-court/15-631.html\" text-transform:uppercase=\"\" title=\"ARRIGONI ENTERPRISES, LLC &lt;EM&gt; v. &lt;/EM&gt; TOWN OF DURHAM, CONNECTICUT, &lt;SPAN STYLE=\">&gt;ARRIGONI ENTERPRISES, LLC <em> v. </em> TOWN OF DURHAM, CONNECTICUT, <span style=\"TEXT-TRANSFORM: UPPERCASE\"><small>ET AL</small></span>.</a></td>\\n',\n",
       " 'April 25, 2016</td>\\n',\n",
       " 'No. 15-631</td>\\n</tr>, <tr class=\"srpcaselawtr altrow\">\\n',\n",
       " '<a href=\"http://caselaw.findlaw.com/us-supreme-court/14-770.html\" text-transform:uppercase=\"\" title=\"BANK MARKAZI, &lt;SPAN STYLE=\">&gt;BANK MARKAZI, <span style=\"TEXT-TRANSFORM: UPPERCASE\"><small>AKA CENTRAL BANK OF IRAN</small></span> <em>v</em>. PETERSON <span style=\"TEXT-TRANSFORM: UPPERCASE\"><small>ET AL.</small></span></a></td>\\n',\n",
       " 'April 20, 2016</td>\\n',\n",
       " 'No. 14-770</td>\\n</tr>, <tr class=\"srpcaselawtr\">\\n',\n",
       " '<a href=\"http://caselaw.findlaw.com/us-supreme-court/14-1457.html\" title=\"BETTERMAN &lt;EM&gt;v&lt;/EM&gt;. MONTANA\">BETTERMAN <em>v</em>. MONTANA</a></td>\\n',\n",
       " 'May 19, 2016</td>\\n',\n",
       " 'No. 14-1457</td>\\n</tr>, <tr class=\"srpcaselawtr altrow\">\\n',\n",
       " '<a href=\"http://caselaw.findlaw.com/us-supreme-court/14-1468.html\" title=\"BIRCHFIELD &lt;EM&gt;v&lt;/EM&gt;. NORTH DAKOTA\">BIRCHFIELD <em>v</em>. NORTH DAKOTA</a></td>\\n',\n",
       " 'June 23, 2016</td>\\n',\n",
       " 'No. 14-1468</td>\\n</tr>, <tr class=\"srpcaselawtr\">\\n',\n",
       " '<a href=\"http://caselaw.findlaw.com/us-supreme-court/14-844.html\" text-transform:uppercase=\"\" title=\"BRUCE &lt;EM&gt;v&lt;/EM&gt;. SAMUELS &lt;SPAN STYLE=\">&gt;BRUCE <em>v</em>. SAMUELS <span style=\"TEXT-TRANSFORM: UPPERCASE\"><small>ET AL.</small></span></a></td>\\n',\n",
       " 'January 12, 2016</td>\\n',\n",
       " 'No. 14-844</td>\\n</tr>, <tr class=\"srpcaselawtr altrow\">\\n',\n",
       " '<a href=\"http://caselaw.findlaw.com/us-supreme-court/15-330.html\" text-transform:uppercase=\"\" title=\"CALIFORNIA BUILDING INDUSTRY ASSOCIATION &lt;EM&gt; v. &lt;/EM&gt; CITY OF SAN JOSE, CALIFORNIA, &lt;SPAN STYLE=\">&gt;CALIFORNIA BUILDING INDUSTRY ASSOCIATION <em> v. </em> CITY OF SAN JOSE, CALIFORNIA, <span style=\"TEXT-TRANSFORM: UPPERCASE\"><small>ET AL.</small></span></a></td>\\n',\n",
       " 'February 29, 2016</td>\\n',\n",
       " 'No. 15-330</td>\\n</tr>, <tr class=\"srpcaselawtr\">\\n',\n",
       " '<a href=\"http://caselaw.findlaw.com/us-supreme-court/14-857.html\" title=\"CAMPBELL-EWALD CO. &lt;EM&gt;v&lt;/EM&gt;. GOMEZ\">CAMPBELL-EWALD CO. <em>v</em>. GOMEZ</a></td>\\n',\n",
       " 'January 20, 2016</td>\\n',\n",
       " 'No. 14-857</td>\\n</tr>, <tr class=\"srpcaselawtr altrow\">\\n',\n",
       " '<a href=\"http://caselaw.findlaw.com/us-supreme-court/15-169.html\" text-transform:uppercase=\"\" title=\"CHRIS LUSBY TAYLOR, &lt;SPAN STYLE=\">&gt;CHRIS LUSBY TAYLOR, <span style=\"TEXT-TRANSFORM: UPPERCASE\"><small>ET AL.</small></span> <em> v. </em> BETTY YEE, <span style=\"TEXT-TRANSFORM: UPPERCASE\"><small>INDIVIDUALLY AND IN HER OFFICIAL CAPACITY AS STATE CONTROLLER OF THE STATE OF CALIFORNIA, ET AL.</small></span></a></td>\\n',\n",
       " 'February 29, 2016</td>\\n',\n",
       " 'No. 15-169</td>\\n</tr>, <tr class=\"srpcaselawtr\">\\n',\n",
       " '<a href=\"http://caselaw.findlaw.com/us-supreme-court/15-7786.html\" title=\"CHRISTOPHER EUGENE BROOKS &lt;EM&gt; v. &lt;/EM&gt; ALABAMA\">CHRISTOPHER EUGENE BROOKS <em> v. </em> ALABAMA</a></td>\\n',\n",
       " 'January 22, 2016</td>\\n',\n",
       " 'No. 15-7786</td>\\n</tr>, <tr class=\"srpcaselawtr altrow\">\\n',\n",
       " '<a href=\"http://caselaw.findlaw.com/us-supreme-court/15-108.html\" text-transform:uppercase=\"\" title=\"COMMONWEALTH OF PUERTO RICO &lt;EM&gt;v&lt;/EM&gt;. SANCHEZ VALLE &lt;SPAN STYLE=\">&gt;COMMONWEALTH OF PUERTO RICO <em>v</em>. SANCHEZ VALLE <span style=\"TEXT-TRANSFORM: UPPERCASE\"><small>ET AL.</small></span></a></td>\\n',\n",
       " 'June 9, 2016</td>\\n',\n",
       " 'No. 15-108</td>\\n</tr>, <tr class=\"srpcaselawtr\">\\n',\n",
       " '<a href=\"http://caselaw.findlaw.com/us-supreme-court/15-233.html\" text-transform:uppercase=\"\" title=\"COMMONWEALTH OF PUERTO RICO &lt;SPAN STYLE=\">&gt;COMMONWEALTH OF PUERTO RICO <span style=\"TEXT-TRANSFORM: UPPERCASE\"><small>ET AL.</small></span> <em>v</em>. FRANKLIN CALIFORNIA TAX-FREE TRUST <span style=\"TEXT-TRANSFORM: UPPERCASE\"><small>ET AL.</small></span></a></td>\\n',\n",
       " 'June 13, 2016</td>\\n',\n",
       " 'No. 15-233</td>\\n</tr>, <tr class=\"srpcaselawtr altrow\">\\n',\n",
       " '<a href=\"http://caselaw.findlaw.com/us-supreme-court/14-1375.html\" title=\"CRST VAN EXPEDITED, INC. &lt;EM&gt;v&lt;/EM&gt;. EQUAL EMPLOYMENT OPPORTUNITY COMMISSION\">CRST VAN EXPEDITED, INC. <em>v</em>. EQUAL EMPLOYMENT OPPORTUNITY COMMISSION</a></td>\\n',\n",
       " 'May 19, 2016</td>\\n',\n",
       " 'No. 14-1375</td>\\n</tr>, <tr class=\"srpcaselawtr\">\\n',\n",
       " '<a href=\"http://caselaw.findlaw.com/us-supreme-court/15-446.html\" title=\"CUOZZO SPEED TECHNOLOGIES, LLC &lt;EM&gt;v&lt;/EM&gt;. LEE, UNDER SECRETARY OF COMMERCE FOR INTELLECTUAL PROPERTY AND DIRECTOR, PATENT AND TRADEMARK OFFICE\">CUOZZO SPEED TECHNOLOGIES, LLC <em>v</em>. LEE, UNDER SECRETARY OF COMMERCE FOR INTELLECTUAL PROPERTY AND DIRECTOR, PATENT AND TRADEMARK OFFICE</a></td>\\n',\n",
       " 'June 20, 2016</td>\\n',\n",
       " 'No. 15-446</td>\\n</tr>, <tr class=\"srpcaselawtr altrow\">\\n',\n",
       " '<a href=\"http://caselaw.findlaw.com/us-supreme-court/14-10486.html\" title=\"CURTIS GIOVANNI FLOWERS &lt;EM&gt; v. &lt;/EM&gt; MISSISSIPPI\">CURTIS GIOVANNI FLOWERS <em> v. </em> MISSISSIPPI</a></td>\\n',\n",
       " 'June 20, 2016</td>\\n',\n",
       " 'No. 14-10486</td>\\n</tr>, <tr class=\"srpcaselawtr\">\\n',\n",
       " '<a href=\"http://caselaw.findlaw.com/us-supreme-court/15-789.html\" title=\"DEBORAH K. JOHNSON, WARDEN &lt;EM&gt; v. &lt;/EM&gt; DONNA KAY LEE\">DEBORAH K. JOHNSON, WARDEN <em> v. </em> DONNA KAY LEE</a></td>\\n',\n",
       " 'May 31, 2016</td>\\n',\n",
       " 'No. 15-789</td>\\n</tr>, <tr class=\"srpcaselawtr altrow\">\\n',\n",
       " '<a href=\"http://caselaw.findlaw.com/us-supreme-court/15-458.html\" title=\"DIETZ &lt;EM&gt;v&lt;/EM&gt;. BOULDIN\">DIETZ <em>v</em>. BOULDIN</a></td>\\n',\n",
       " 'June 9, 2016</td>\\n',\n",
       " 'No. 15-458</td>\\n</tr>, <tr class=\"srpcaselawtr\">\\n',\n",
       " '<a href=\"http://caselaw.findlaw.com/us-supreme-court/13-1496.html\" text-transform:uppercase=\"\" title=\"DOLLAR GENERAL CORPORATION, &lt;SPAN STYLE=\">&gt;DOLLAR GENERAL CORPORATION, <span style=\"TEXT-TRANSFORM: UPPERCASE\"><small>ET AL</small></span>., PETITIONERS <em>v</em>. MISSISSIPPI BAND OF CHOCTAW INDIANS, <span style=\"TEXT-TRANSFORM: UPPERCASE\"><small>ET AL</small></span>.</a></td>\\n',\n",
       " 'June 23, 2016</td>\\n',\n",
       " 'No. 13-1496</td>\\n</tr>, <tr class=\"srpcaselawtr altrow\">\\n',\n",
       " '<a href=\"http://caselaw.findlaw.com/us-supreme-court/15-415.html\" text-transform:uppercase=\"\" title=\"ENCINO MOTORCARS, LLC &lt;EM&gt;v&lt;/EM&gt;. NAVARRO &lt;SPAN STYLE=\">&gt;ENCINO MOTORCARS, LLC <em>v</em>. NAVARRO <span style=\"TEXT-TRANSFORM: UPPERCASE\"><small>ET AL.</small></span></a></td>\\n',\n",
       " 'June 20, 2016</td>\\n',\n",
       " 'No. 15-415</td>\\n</tr>, <tr class=\"srpcaselawtr\">\\n',\n",
       " '<a href=\"http://caselaw.findlaw.com/us-supreme-court/14-940.html\" text-transform:uppercase=\"\" title=\"EVENWEL &lt;SPAN STYLE=\">&gt;EVENWEL <span style=\"TEXT-TRANSFORM: UPPERCASE\"><small>ET AL.</small></span> <em>v</em>. ABBOTT, GOVERNOR OF TEXAS, <span style=\"TEXT-TRANSFORM: UPPERCASE\"><small>ET AL.</small></span></a></td>\\n',\n",
       " 'April 4, 2016</td>\\n',\n",
       " 'No. 14-940</td>\\n</tr>, <tr class=\"srpcaselawtr altrow\">\\n',\n",
       " '<a href=\"http://caselaw.findlaw.com/us-supreme-court/14-840.html\" text-transform:uppercase=\"\" title=\"FEDERAL ENERGY REGULATORY COMMISSION &lt;EM&gt;v&lt;/EM&gt;. ELECTRIC POWER SUPPLY ASSOCIATION &lt;SPAN STYLE=\">&gt;FEDERAL ENERGY REGULATORY COMMISSION <em>v</em>. ELECTRIC POWER SUPPLY ASSOCIATION <span style=\"TEXT-TRANSFORM: UPPERCASE\"><small>ET AL.</small></span></a></td>\\n',\n",
       " 'January 25, 2016</td>\\n',\n",
       " 'No. 14-840</td>\\n</tr>, <tr class=\"srpcaselawtr\">\\n',\n",
       " '<a href=\"http://caselaw.findlaw.com/us-supreme-court/14-981.html\" text-transform:uppercase=\"\" title=\"FISHER &lt;EM&gt;v&lt;/EM&gt;. UNIVERSITY OF TEXAS AT AUSTIN &lt;SPAN STYLE=\">&gt;FISHER <em>v</em>. UNIVERSITY OF TEXAS AT AUSTIN <span style=\"TEXT-TRANSFORM: UPPERCASE\"><small>ET AL.</small></span></a></td>\\n',\n",
       " 'June 23, 2016</td>\\n',\n",
       " 'No. 14-981</td>\\n</tr>, <tr class=\"srpcaselawtr altrow\">\\n',\n",
       " '<a href=\"http://caselaw.findlaw.com/us-supreme-court/14-8349.html\" title=\"FOSTER &lt;EM&gt;v&lt;/EM&gt;. CHATMAN, WARDEN\">FOSTER <em>v</em>. CHATMAN, WARDEN</a></td>\\n',\n",
       " 'May 23, 2016</td>\\n',\n",
       " 'No. 14-8349</td>\\n</tr>, <tr class=\"srpcaselawtr\">\\n',\n",
       " '<a href=\"http://caselaw.findlaw.com/us-supreme-court/14-1175.html\" title=\"FRANCHISE TAX BOARD OF CALIFORNIA &lt;EM&gt;v&lt;/EM&gt;. HYATT\">FRANCHISE TAX BOARD OF CALIFORNIA <em>v</em>. HYATT</a></td>\\n',\n",
       " 'April 19, 2016</td>\\n',\n",
       " 'No. 14-1175</td>\\n</tr>, <tr class=\"srpcaselawtr altrow\">\\n',\n",
       " '<a href=\"http://caselaw.findlaw.com/us-supreme-court/14-181.html\" title=\"GOBEILLE, CHAIR OF THE VERMONT GREEN MOUNTAIN CARE BOARD &lt;EM&gt;v&lt;/EM&gt;. LIBERTY MUTUAL INSURANCE CO.\">GOBEILLE, CHAIR OF THE VERMONT GREEN MOUNTAIN CARE BOARD <em>v</em>. LIBERTY MUTUAL INSURANCE CO.</a></td>\\n',\n",
       " 'March 1, 2016</td>\\n',\n",
       " 'No. 14-181</td>\\n</tr>, <tr class=\"srpcaselawtr\">\\n',\n",
       " '<a href=\"http://caselaw.findlaw.com/us-supreme-court/14-613.html\" title=\"GREEN &lt;EM&gt;v&lt;/EM&gt;. BRENNAN, POSTMASTER GENERAL\">GREEN <em>v</em>. BRENNAN, POSTMASTER GENERAL</a></td>\\n',\n",
       " 'May 23, 2016</td>\\n',\n",
       " 'No. 14-613</td>\\n</tr>, <tr class=\"srpcaselawtr altrow\">\\n',\n",
       " '<a href=\"http://caselaw.findlaw.com/us-supreme-court/14-1513.html\" text-transform:uppercase=\"\" title=\"HALO ELECTRONICS, INC. &lt;EM&gt;v&lt;/EM&gt;. PULSE ELECTRONICS, INC., &lt;SPAN STYLE=\">&gt;HALO ELECTRONICS, INC. <em>v</em>. PULSE ELECTRONICS, INC., <span style=\"TEXT-TRANSFORM: UPPERCASE\"><small>ET AL.</small></span></a></td>\\n',\n",
       " 'June 13, 2016</td>\\n',\n",
       " 'No. 14-1513</td>\\n</tr>, <tr class=\"srpcaselawtr\">\\n',\n",
       " '<a href=\"http://caselaw.findlaw.com/us-supreme-court/14-232.html\" text-transform:uppercase=\"\" title=\"HARRIS &lt;SPAN STYLE=\">&gt;HARRIS <span style=\"TEXT-TRANSFORM: UPPERCASE\"><small>ET AL. </small></span><em>v</em>. ARIZONA INDEPENDENT REDISTRICTING COMMISSION <span style=\"TEXT-TRANSFORM: UPPERCASE\"><small>ET AL.</small></span></a></td>\\n',\n",
       " 'April 20, 2016</td>\\n',\n",
       " 'No. 14-232</td>\\n</tr>, <tr class=\"srpcaselawtr altrow\">\\n',\n",
       " '<a href=\"http://caselaw.findlaw.com/us-supreme-court/14-1280.html\" text-transform:uppercase=\"\" title=\"HEFFERNAN &lt;EM&gt;v&lt;/EM&gt;. CITY OF PATERSON, NEW JERSEY, &lt;SPAN STYLE=\">&gt;HEFFERNAN <em>v</em>. CITY OF PATERSON, NEW JERSEY, <span style=\"TEXT-TRANSFORM: UPPERCASE\"><small>ET AL.</small></span></a></td>\\n',\n",
       " 'April 26, 2016</td>\\n',\n",
       " 'No. 14-1280</td>\\n</tr>, <tr class=\"srpcaselawtr\">\\n',\n",
       " '<a href=\"http://caselaw.findlaw.com/us-supreme-court/14-614.html\" text-transform:uppercase=\"\" title=\"HUGHES, CHAIRMAN, MARYLAND PUBLIC SERVICE COMMISION, &lt;SPAN STYLE=\">&gt;HUGHES, CHAIRMAN, MARYLAND PUBLIC SERVICE COMMISION, <span style=\"TEXT-TRANSFORM: UPPERCASE\"><small>ET AL.</small></span> <em>v</em>. TALEN ENERGY MARKETING, LLC, <span style=\"TEXT-TRANSFORM: UPPERCASE\"><small>FKA </small></span>PPL ENERGYPLUS, LLC, <span style=\"TEXT-TRANSFORM: UPPERCASE\"><small>ET AL. </small></span></a></td>\\n',\n",
       " 'April 19, 2016</td>\\n',\n",
       " 'No. 14-614</td>\\n</tr>, <tr class=\"srpcaselawtr altrow\">\\n',\n",
       " '<a href=\"http://caselaw.findlaw.com/us-supreme-court/14-7505.html\" title=\"HURST &lt;EM&gt;v&lt;/EM&gt;. FLORIDA\">HURST <em>v</em>. FLORIDA</a></td>\\n',\n",
       " 'January 12, 2016</td>\\n',\n",
       " 'No. 14-7505</td>\\n</tr>, <tr class=\"srpcaselawtr\">\\n',\n",
       " '<a href=\"http://caselaw.findlaw.com/us-supreme-court/15-145.html\" title=\"HUSKY INTERNATIONAL ELECTRONICS, INC. &lt;EM&gt;v&lt;/EM&gt;. RITZ\">HUSKY INTERNATIONAL ELECTRONICS, INC. <em>v</em>. RITZ</a></td>\\n',\n",
       " 'May 16, 2016</td>\\n',\n",
       " 'No. 15-145</td>\\n</tr>, <tr class=\"srpcaselawtr altrow\">\\n',\n",
       " '<a href=\"http://caselaw.findlaw.com/us-supreme-court/14-10186.html\" text-transform:uppercase=\"\" title=\"ISRAEL BEN-LEVI, &lt;SPAN STYLE=\">&gt;ISRAEL BEN-LEVI, <span style=\"TEXT-TRANSFORM: UPPERCASE\"><small>AKA </small></span>DANNY L. LOREN <em> v. </em> BETTY BROWN</a></td>\\n',\n",
       " 'February 29, 2016</td>\\n',\n",
       " 'No. 14-10186</td>\\n</tr>, <tr class=\"srpcaselawtr\">\\n',\n",
       " '<a href=\"http://caselaw.findlaw.com/us-supreme-court/14-9409.html\" title=\"JABARI WILLIAMS &lt;EM&gt; v. &lt;/EM&gt; LOUISIANA\">JABARI WILLIAMS <em> v. </em> LOUISIANA</a></td>\\n',\n",
       " 'June 20, 2016</td>\\n',\n",
       " 'No. 14-9409</td>\\n</tr>, <tr class=\"srpcaselawtr altrow\">\\n',\n",
       " '<a href=\"http://caselaw.findlaw.com/us-supreme-court/14-10078.html\" title=\"JAIME CAETANO &lt;EM&gt; v. &lt;/EM&gt; MASSACHUSETTS\">JAIME CAETANO <em> v. </em> MASSACHUSETTS</a></td>\\n',\n",
       " 'March 21, 2016</td>\\n',\n",
       " 'No. 14-10078</td>\\n</tr>, <tr class=\"srpcaselawtr\">\\n',\n",
       " '<a href=\"http://caselaw.findlaw.com/us-supreme-court/15-723.html\" title=\"JEFFREY WOODS, WARDEN &lt;EM&gt; v. &lt;/EM&gt; TIMOTHY ETHERTON\">JEFFREY WOODS, WARDEN <em> v. </em> TIMOTHY ETHERTON</a></td>\\n',\n",
       " 'April 4, 2016</td>\\n',\n",
       " 'No. 15-723</td>\\n</tr>, <tr class=\"srpcaselawtr altrow\">\\n',\n",
       " '<a href=\"http://caselaw.findlaw.com/us-supreme-court/14-449.html\" title=\"KANSAS &lt;EM&gt;v&lt;/EM&gt;. CARR\">KANSAS <em>v</em>. CARR</a></td>\\n',\n",
       " 'January 20, 2016</td>\\n',\n",
       " 'No. 14-449</td>\\n</tr>, <tr class=\"srpcaselawtr\">\\n',\n",
       " '<a href=\"http://caselaw.findlaw.com/us-supreme-court/14-916.html\" title=\"KINGDOMWARE TECHNOLOGIES, INC. &lt;EM&gt;v&lt;/EM&gt;. UNITED STATES\">KINGDOMWARE TECHNOLOGIES, INC. <em>v</em>. UNITED STATES</a></td>\\n',\n",
       " 'June 16, 2016</td>\\n',\n",
       " 'No. 14-916</td>\\n</tr>, <tr class=\"srpcaselawtr altrow\">\\n',\n",
       " '<a href=\"http://caselaw.findlaw.com/us-supreme-court/15-375.html\" text-transform:uppercase=\"\" title=\"KIRTSAENG, &lt;SPAN STYLE=\">&gt;KIRTSAENG, <span style=\"TEXT-TRANSFORM: UPPERCASE\"><small>DBA BLUECHRISTINE99</small></span> <em>v</em>. JOHN WILEY &amp;AMP; SONS, INC.</a></td>\\n',\n",
       " 'June 16, 2016</td>\\n',\n",
       " 'No. 15-375</td>\\n</tr>, <tr class=\"srpcaselawtr\">\\n',\n",
       " '<a href=\"http://caselaw.findlaw.com/us-supreme-court/15-946.html\" title=\"LAMONDRE TUCKER &lt;EM&gt; v. &lt;/EM&gt; LOUISIANA\">LAMONDRE TUCKER <em> v. </em> LOUISIANA</a></td>\\n',\n",
       " 'May 31, 2016</td>\\n',\n",
       " 'No. 15-946</td>\\n</tr>, <tr class=\"srpcaselawtr altrow\">\\n',\n",
       " '<a href=\"http://caselaw.findlaw.com/us-supreme-court/14-8358.html\" title=\"LOCKHART &lt;EM&gt;v&lt;/EM&gt;. UNITED STATES\">LOCKHART <em>v</em>. UNITED STATES</a></td>\\n',\n",
       " 'March 1, 2016</td>\\n',\n",
       " 'No. 14-8358</td>\\n</tr>, <tr class=\"srpcaselawtr\">\\n',\n",
       " '<a href=\"http://caselaw.findlaw.com/us-supreme-court/14-419.html\" title=\"LUIS &lt;EM&gt;v&lt;/EM&gt;. UNITED STATES\">LUIS <em>v</em>. UNITED STATES</a></td>\\n',\n",
       " 'March 30, 2016</td>\\n',\n",
       " 'No. 14-419</td>\\n</tr>, <tr class=\"srpcaselawtr altrow\">\\n',\n",
       " '<a href=\"http://caselaw.findlaw.com/us-supreme-court/14-1096.html\" title=\"LUNA TORRES &lt;EM&gt;v&lt;/EM&gt;. LYNCH, ATTORNEY GENERAL\">LUNA TORRES <em>v</em>. LYNCH, ATTORNEY GENERAL</a></td>\\n',\n",
       " 'May 19, 2016</td>\\n',\n",
       " 'No. 14-1096</td>\\n</tr>, <tr class=\"srpcaselawtr\">\\n',\n",
       " '<a href=\"http://caselaw.findlaw.com/us-supreme-court/15-6092.html\" title=\"MATHIS &lt;EM&gt;v&lt;/EM&gt;. UNITED STATES\">MATHIS <em>v</em>. UNITED STATES</a></td>\\n',\n",
       " 'June 23, 2016</td>\\n',\n",
       " 'No. 15-6092</td>\\n</tr>, <tr class=\"srpcaselawtr altrow\">\\n',\n",
       " '<a href=\"http://caselaw.findlaw.com/us-supreme-court/15-493.html\" text-transform:uppercase=\"\" title=\"MELENE JAMES &lt;EM&gt; v. &lt;/EM&gt; CITY OF BOISE, IDAHO, &lt;SPAN STYLE=\">&gt;MELENE JAMES <em> v. </em> CITY OF BOISE, IDAHO, <span style=\"TEXT-TRANSFORM: UPPERCASE\"><small>ET AL.</small></span></a></td>\\n',\n",
       " 'January 25, 2016</td>\\n',\n",
       " 'No. 15-493</td>\\n</tr>, <tr class=\"srpcaselawtr\">\\n',\n",
       " '<a href=\"http://caselaw.findlaw.com/us-supreme-court/14-510.html\" text-transform:uppercase=\"\" title=\"MENOMINEE INDIAN TRIBE OF WISCONSIN &lt;EM&gt;v&lt;/EM&gt;. UNITED STATES &lt;SPAN STYLE=\">&gt;MENOMINEE INDIAN TRIBE OF WISCONSIN <em>v</em>. UNITED STATES <span style=\"TEXT-TRANSFORM: UPPERCASE\"><small>ET AL.</small></span></a></td>\\n',\n",
       " 'January 25, 2016</td>\\n',\n",
       " 'No. 14-510</td>\\n</tr>, <tr class=\"srpcaselawtr altrow\">\\n',\n",
       " '<a href=\"http://caselaw.findlaw.com/us-supreme-court/14-1132.html\" text-transform:uppercase=\"\" title=\"MERRILL LYNCH, PIERCE, FENNER &amp;AMP; SMITH INC. &lt;SPAN STYLE=\">&gt;MERRILL LYNCH, PIERCE, FENNER &amp;AMP; SMITH INC. <span style=\"TEXT-TRANSFORM: UPPERCASE\"><small>ET AL.</small></span> <em>v</em>. MANNING <span style=\"TEXT-TRANSFORM: UPPERCASE\"><small>ET AL.</small></span></a></td>\\n',\n",
       " 'May 16, 2016</td>\\n',\n",
       " 'No. 14-1132</td>\\n</tr>, <tr class=\"srpcaselawtr\">\\n',\n",
       " '<a href=\"http://caselaw.findlaw.com/us-supreme-court/14-10008.html\" title=\"MICHAEL WEARRY &lt;EM&gt; v. &lt;/EM&gt; BURL CAIN, WARDEN\">MICHAEL WEARRY <em> v. </em> BURL CAIN, WARDEN</a></td>\\n',\n",
       " 'March 7, 2016</td>\\n',\n",
       " 'No. 14-10008</td>\\n</tr>, <tr class=\"srpcaselawtr altrow\">\\n',\n",
       " '<a href=\"http://caselaw.findlaw.com/us-supreme-court/14-8913.html\" title=\"MOLINA-MARTINEZ &lt;EM&gt;v&lt;/EM&gt;. UNITED STATES\">MOLINA-MARTINEZ <em>v</em>. UNITED STATES</a></td>\\n',\n",
       " 'April 20, 2016</td>\\n',\n",
       " 'No. 14-8913</td>\\n</tr>, <tr class=\"srpcaselawtr\">\\n',\n",
       " '<a href=\"http://caselaw.findlaw.com/us-supreme-court/14-723.html\" title=\"MONTANILE &lt;EM&gt;v&lt;/EM&gt;. BOARD OF TRUSTEES OF THE NATIONAL ELEVATOR INDUSTRY HEALTH BENEFIT PLAN\">MONTANILE <em>v</em>. BOARD OF TRUSTEES OF THE NATIONAL ELEVATOR INDUSTRY HEALTH BENEFIT PLAN</a></td>\\n',\n",
       " 'January 20, 2016</td>\\n',\n",
       " 'No. 14-723</td>\\n</tr>, <tr class=\"srpcaselawtr altrow\">\\n',\n",
       " '<a href=\"http://caselaw.findlaw.com/us-supreme-court/14-280.html\" title=\"MONTGOMERY &lt;EM&gt;v&lt;/EM&gt;. LOUISIANA\">MONTGOMERY <em>v</em>. LOUISIANA</a></td>\\n',\n",
       " 'January 25, 2016</td>\\n',\n",
       " 'No. 14-280</td>\\n</tr>, <tr class=\"srpcaselawtr\">\\n',\n",
       " '<a href=\"http://caselaw.findlaw.com/us-supreme-court/14-1095.html\" title=\"MUSACCHIO &lt;EM&gt;v&lt;/EM&gt;. UNITED STATES\">MUSACCHIO <em>v</em>. UNITED STATES</a></td>\\n',\n",
       " 'January 25, 2016</td>\\n',\n",
       " 'No. 14-1095</td>\\n</tr>, <tr class=\"srpcaselawtr altrow\">\\n',\n",
       " '<a href=\"http://caselaw.findlaw.com/us-supreme-court/14-1406.html\" text-transform:uppercase=\"\" title=\"NEBRASKA &lt;SPAN STYLE=\">&gt;NEBRASKA <span style=\"TEXT-TRANSFORM: UPPERCASE\"><small>ET AL.</small></span> <em>v</em>. PARKER <span style=\"TEXT-TRANSFORM: UPPERCASE\"><small>ET AL.</small></span></a></td>\\n',\n",
       " 'March 22, 2016</td>\\n',\n",
       " 'No. 14-1406</td>\\n</tr>, <tr class=\"srpcaselawtr\">\\n',\n",
       " '<a href=\"http://caselaw.findlaw.com/us-supreme-court/144orig.html\" text-transform:uppercase=\"\" title=\"NEBRASKA, &lt;SPAN STYLE=\">&gt;NEBRASKA, <span style=\"TEXT-TRANSFORM: UPPERCASE\"><small>ET AL.</small></span> <em> v. </em> COLORADO</a></td>\\n',\n",
       " 'March 21, 2016</td>\\n',\n",
       " 'No. 144orig</td>\\n</tr>, <tr class=\"srpcaselawtr altrow\">\\n',\n",
       " '<a href=\"http://caselaw.findlaw.com/us-supreme-court/144-orig.html\" text-transform:uppercase=\"\" title=\"NEBRASKA, &lt;SPAN STYLE=\">&gt;NEBRASKA, <span style=\"TEXT-TRANSFORM: UPPERCASE\"><small>ET AL.</small></span> <em> v. </em> COLORADO</a></td>\\n',\n",
       " 'March 21, 2016</td>\\n',\n",
       " 'No. 144-orig</td>\\n</tr>, <tr class=\"srpcaselawtr\">\\n',\n",
       " '<a href=\"http://caselaw.findlaw.com/us-supreme-court/15-5238.html\" title=\"NICHOLS &lt;EM&gt;v&lt;/EM&gt;. UNITED STATES\">NICHOLS <em>v</em>. UNITED STATES</a></td>\\n',\n",
       " 'April 4, 2016</td>\\n',\n",
       " 'No. 15-5238</td>\\n</tr>, <tr class=\"srpcaselawtr altrow\">\\n',\n",
       " '<a href=\"http://caselaw.findlaw.com/us-supreme-court/14-361.html\" title=\"OCASIO &lt;EM&gt;v&lt;/EM&gt;. UNITED STATES\">OCASIO <em>v</em>. UNITED STATES</a></td>\\n',\n",
       " 'May 2, 2016</td>\\n',\n",
       " 'No. 14-361</td>\\n</tr>, <tr class=\"srpcaselawtr\">\\n',\n",
       " '<a href=\"http://caselaw.findlaw.com/us-supreme-court/14-915.html\" text-transform:uppercase=\"\" title=\"REBECCA FRIEDRICHS, &lt;SPAN STYLE=\">&gt;REBECCA FRIEDRICHS, <span style=\"TEXT-TRANSFORM: UPPERCASE\"><small>ET AL.,</small></span> PETITIONERS <em> v. </em> CALIFORNIA TEACHERS ASSOCIATION, <span style=\"TEXT-TRANSFORM: UPPERCASE\"><small>ET AL.</small></span></a></td>\\n',\n",
       " 'March 29, 2016</td>\\n',\n",
       " 'No. 14-915</td>\\n</tr>, <tr class=\"srpcaselawtr altrow\">\\n',\n",
       " '<a href=\"http://caselaw.findlaw.com/us-supreme-court/15-6289.html\" title=\"RENALDO CHANTE ADAMS &lt;EM&gt; v. &lt;/EM&gt; ALABAMA\">RENALDO CHANTE ADAMS <em> v. </em> ALABAMA</a></td>\\n',\n",
       " 'May 23, 2016</td>\\n',\n",
       " 'No. 15-6289</td>\\n</tr>, <tr class=\"srpcaselawtr\">\\n',\n",
       " '<a href=\"http://caselaw.findlaw.com/us-supreme-court/15-8119.html\" title=\"RICHARD DELMER BOYER &lt;EM&gt; v. &lt;/EM&gt; RONALD DAVIS, WARDEN\">RICHARD DELMER BOYER <em> v. </em> RONALD DAVIS, WARDEN</a></td>\\n',\n",
       " 'May 2, 2016</td>\\n',\n",
       " 'No. 15-8119</td>\\n</tr>, <tr class=\"srpcaselawtr altrow\">\\n',\n",
       " '<a href=\"http://caselaw.findlaw.com/us-supreme-court/15-138.html\" text-transform:uppercase=\"\" title=\"RJR NABISCO, INC., &lt;SPAN STYLE=\">&gt;RJR NABISCO, INC., <span style=\"TEXT-TRANSFORM: UPPERCASE\"><small>ET AL.</small></span> <em>v</em>. EUROPEAN COMMUNITY <span style=\"TEXT-TRANSFORM: UPPERCASE\"><small>ET AL.</small></span></a></td>\\n',\n",
       " 'June 20, 2016</td>\\n',\n",
       " 'No. 15-138</td>\\n</tr>, <tr class=\"srpcaselawtr\">\\n',\n",
       " '<a href=\"http://caselaw.findlaw.com/us-supreme-court/15-339.html\" title=\"ROSS &lt;EM&gt;v&lt;/EM&gt;. BLAKE\">ROSS <em>v</em>. BLAKE</a></td>\\n',\n",
       " 'June 6, 2016</td>\\n',\n",
       " 'No. 15-339</td>\\n</tr>, <tr class=\"srpcaselawtr altrow\">\\n',\n",
       " '<a href=\"http://caselaw.findlaw.com/us-supreme-court/15-833.html\" title=\"SCOTT KERNAN, SECRETARY, CALIFORNIA DE-PARTMENT OF CORRECTIONS AND REHABIL-ITATION &lt;EM&gt; v. &lt;/EM&gt; ANTONIO A. HINOJOSA\">SCOTT KERNAN, SECRETARY, CALIFORNIA DE-PARTMENT OF CORRECTIONS AND REHABIL-ITATION <em> v. </em> ANTONIO A. HINOJOSA</a></td>\\n',\n",
       " 'May 16, 2016</td>\\n',\n",
       " 'No. 15-833</td>\\n</tr>, <tr class=\"srpcaselawtr\">\\n',\n",
       " '<a href=\"http://caselaw.findlaw.com/us-supreme-court/15-8366.html\" title=\"SHAWN PATRICK LYNCH &lt;EM&gt; v. &lt;/EM&gt; ARIZONA\">SHAWN PATRICK LYNCH <em> v. </em> ARIZONA</a></td>\\n',\n",
       " 'May 31, 2016</td>\\n',\n",
       " 'No. 15-8366</td>\\n</tr>, <tr class=\"srpcaselawtr altrow\">\\n',\n",
       " '<a href=\"http://caselaw.findlaw.com/us-supreme-court/15-338.html\" text-transform:uppercase=\"\" title=\"SHERIFF &lt;SPAN STYLE=\">&gt;SHERIFF <span style=\"TEXT-TRANSFORM: UPPERCASE\"><small>ET AL.</small></span> <em>v</em>. GILLIE <span style=\"TEXT-TRANSFORM: UPPERCASE\"><small>ET AL.</small></span></a></td>\\n',\n",
       " 'May 16, 2016</td>\\n',\n",
       " 'No. 15-338</td>\\n</tr>, <tr class=\"srpcaselawtr\">\\n',\n",
       " '<a href=\"http://caselaw.findlaw.com/us-supreme-court/15-109.html\" text-transform:uppercase=\"\" title=\"SIMMONS &lt;SPAN STYLE=\">&gt;SIMMONS <span style=\"TEXT-TRANSFORM: UPPERCASE\"><small>ET AL.</small></span> <em>v</em>. HIMMELREICH</a></td>\\n',\n",
       " 'June 6, 2016</td>\\n',\n",
       " 'No. 15-109</td>\\n</tr>, <tr class=\"srpcaselawtr altrow\">\\n',\n",
       " '<a href=\"http://caselaw.findlaw.com/us-supreme-court/13-1339.html\" title=\"SPOKEO, INC. &lt;EM&gt;v&lt;/EM&gt;. ROBINS\">SPOKEO, INC. <em>v</em>. ROBINS</a></td>\\n',\n",
       " 'May 16, 2016</td>\\n',\n",
       " 'No. 13-1339</td>\\n</tr>, <tr class=\"srpcaselawtr\">\\n',\n",
       " '<a href=\"http://caselaw.findlaw.com/us-supreme-court/14-1516.html\" title=\"STEPHEN DUNCAN, WARDEN, PETITIONER &lt;EM&gt; v. &lt;/EM&gt; LAWRENCE OWENS\">STEPHEN DUNCAN, WARDEN, PETITIONER <em> v. </em> LAWRENCE OWENS</a></td>\\n',\n",
       " 'January 20, 2016</td>\\n',\n",
       " 'No. 14-1516</td>\\n</tr>, <tr class=\"srpcaselawtr altrow\">\\n',\n",
       " '<a href=\"http://caselaw.findlaw.com/us-supreme-court/14-1209.html\" text-transform:uppercase=\"\" title=\"STURGEON &lt;EM&gt;v&lt;/EM&gt;. FROST, ALASKA REGIONAL DIRECTOR OF THE NATIONAL PARK SERVICE, &lt;SPAN STYLE=\">&gt;STURGEON <em>v</em>. FROST, ALASKA REGIONAL DIRECTOR OF THE NATIONAL PARK SERVICE, <span style=\"TEXT-TRANSFORM: UPPERCASE\"><small>ET AL.</small></span></a></td>\\n',\n",
       " 'March 22, 2016</td>\\n',\n",
       " 'No. 14-1209</td>\\n</tr>, <tr class=\"srpcaselawtr\">\\n',\n",
       " '<a href=\"http://caselaw.findlaw.com/us-supreme-court/14-6166.html\" title=\"TAYLOR &lt;EM&gt;v&lt;/EM&gt;. UNITED STATES\">TAYLOR <em>v</em>. UNITED STATES</a></td>\\n',\n",
       " 'June 20, 2016</td>\\n',\n",
       " 'No. 14-6166</td>\\n</tr>, <tr class=\"srpcaselawtr altrow\">\\n',\n",
       " '<a href=\"http://caselaw.findlaw.com/us-supreme-court/14-1146.html\" text-transform:uppercase=\"\" title=\"TYSON FOODS, INC. &lt;EM&gt;v&lt;/EM&gt;. BOUAPHAKEO &lt;SPAN STYLE=\">&gt;TYSON FOODS, INC. <em>v</em>. BOUAPHAKEO <span style=\"TEXT-TRANSFORM: UPPERCASE\"><small>ET AL., INDIVIDUALLY AND ON BEHALF OF ALL OTHERS SIMILARLY SITUATED</small></span></a></td>\\n',\n",
       " 'March 22, 2016</td>\\n',\n",
       " 'No. 14-1146</td>\\n</tr>, <tr class=\"srpcaselawtr\">\\n',\n",
       " '<a href=\"http://caselaw.findlaw.com/us-supreme-court/15-420.html\" title=\"UNITED STATES &lt;EM&gt;v&lt;/EM&gt;. BRYANT\">UNITED STATES <em>v</em>. BRYANT</a></td>\\n',\n",
       " 'June 13, 2016</td>\\n',\n",
       " 'No. 15-420</td>\\n</tr>, <tr class=\"srpcaselawtr altrow\">\\n',\n",
       " '<a href=\"http://caselaw.findlaw.com/us-supreme-court/15-290.html\" text-transform:uppercase=\"\" title=\"UNITED STATES ARMY CORPS OF ENGINEERS &lt;EM&gt;v&lt;/EM&gt;. HAWKES CO., INC., &lt;SPAN STYLE=\">&gt;UNITED STATES ARMY CORPS OF ENGINEERS <em>v</em>. HAWKES CO., INC., <span style=\"TEXT-TRANSFORM: UPPERCASE\"><small>ET AL.</small></span></a></td>\\n',\n",
       " 'May 31, 2016</td>\\n',\n",
       " 'No. 15-290</td>\\n</tr>, <tr class=\"srpcaselawtr\">\\n',\n",
       " '<a href=\"http://caselaw.findlaw.com/us-supreme-court/15-674.html\" text-transform:uppercase=\"\" title=\"UNITED STATES, &lt;SPAN STYLE=\">&gt;UNITED STATES, <span style=\"TEXT-TRANSFORM: UPPERCASE\"><small>ET AL.</small></span>, PETITIONERS <em> v. </em> TEXAS, <span style=\"TEXT-TRANSFORM: UPPERCASE\"><small>ET AL</small></span>.</a></td>\\n',\n",
       " 'June 23, 2016</td>\\n',\n",
       " 'No. 15-674</td>\\n</tr>, <tr class=\"srpcaselawtr altrow\">\\n',\n",
       " '<a href=\"http://caselaw.findlaw.com/us-supreme-court/15-861.html\" title=\"UNITED STUDENT AID FUNDS, INC. &lt;EM&gt; v. &lt;/EM&gt; BRYANA BIBLE\">UNITED STUDENT AID FUNDS, INC. <em> v. </em> BRYANA BIBLE</a></td>\\n',\n",
       " 'May 16, 2016</td>\\n',\n",
       " 'No. 15-861</td>\\n</tr>, <tr class=\"srpcaselawtr\">\\n',\n",
       " '<a href=\"http://caselaw.findlaw.com/us-supreme-court/15-7.html\" text-transform:uppercase=\"\" title=\"UNIVERSAL HEALTH SERVICES, INC. &lt;EM&gt;v&lt;/EM&gt;. UNITED STATES &lt;SPAN STYLE=\">&gt;UNIVERSAL HEALTH SERVICES, INC. <em>v</em>. UNITED STATES <span style=\"TEXT-TRANSFORM: UPPERCASE\"><small>ET AL. EX REL</small></span><span style=\"TEXT-TRANSFORM: UPPERCASE\"><small><em>. </em></small></span><span style=\"TEXT-TRANSFORM: UPPERCASE\"><small>ESCOBAR ET AL.</small></span></a></td>\\n',\n",
       " 'June 16, 2016</td>\\n',\n",
       " 'No. 15-7</td>\\n</tr>, <tr class=\"srpcaselawtr altrow\">\\n',\n",
       " '<a href=\"http://caselaw.findlaw.com/us-supreme-court/14-1373.html\" title=\"UTAH &lt;EM&gt;v&lt;/EM&gt;. STRIEFF\">UTAH <em>v</em>. STRIEFF</a></td>\\n',\n",
       " 'June 20, 2016</td>\\n',\n",
       " 'No. 14-1373</td>\\n</tr>, <tr class=\"srpcaselawtr\">\\n',\n",
       " '<a href=\"http://caselaw.findlaw.com/us-supreme-court/15-648.html\" text-transform:uppercase=\"\" title=\"v. L. &lt;EM&gt; v. &lt;/EM&gt; E. L., &lt;SPAN STYLE=\">&gt;v. L. <em> v. </em> E. L., <span style=\"TEXT-TRANSFORM: UPPERCASE\"><small>ET AL.</small></span></a></td>\\n',\n",
       " 'March 7, 2016</td>\\n',\n",
       " 'No. 15-648</td>\\n</tr>, <tr class=\"srpcaselawtr altrow\">\\n',\n",
       " '<a href=\"http://caselaw.findlaw.com/us-supreme-court/14-520.html\" text-transform:uppercase=\"\" title=\"VALERIE J. HAWKINS &lt;SPAN STYLE=\">&gt;VALERIE J. HAWKINS <span style=\"TEXT-TRANSFORM: UPPERCASE\"><small>AND JANICE A. PATTERSON</small></span>, PETITIONERS <em> v. </em> COMMUNITY BANK OF RAYMORE</a></td>\\n',\n",
       " 'March 22, 2016</td>\\n',\n",
       " 'No. 14-520</td>\\n</tr>, <tr class=\"srpcaselawtr\">\\n',\n",
       " '<a href=\"http://caselaw.findlaw.com/us-supreme-court/15-6418.html\" title=\"WELCH &lt;EM&gt;v&lt;/EM&gt;. UNITED STATES\">WELCH <em>v</em>. UNITED STATES</a></td>\\n',\n",
       " 'April 18, 2016</td>\\n',\n",
       " 'No. 15-6418</td>\\n</tr>, <tr class=\"srpcaselawtr altrow\">\\n',\n",
       " '<a href=\"http://caselaw.findlaw.com/us-supreme-court/15-5040.html\" title=\"WILLIAMS &lt;EM&gt;v&lt;/EM&gt;. PENNSYLVANIA\">WILLIAMS <em>v</em>. PENNSYLVANIA</a></td>\\n',\n",
       " 'June 9, 2016</td>\\n',\n",
       " 'No. 15-5040</td>\\n</tr>, <tr class=\"srpcaselawtr\">\\n',\n",
       " '<a href=\"http://caselaw.findlaw.com/us-supreme-court/14-1504.html\" text-transform:uppercase=\"\" title=\"WITTMAN &lt;SPAN STYLE=\">&gt;WITTMAN <span style=\"TEXT-TRANSFORM: UPPERCASE\"><small>ET AL.</small></span> <em>v</em>. PERSONHUBALLAH <span style=\"TEXT-TRANSFORM: UPPERCASE\"><small>ET AL.</small></span></a></td>\\n',\n",
       " 'May 23, 2016</td>\\n',\n",
       " 'No. 14-1504</td>\\n</tr>, <tr class=\"srpcaselawtr altrow\">\\n',\n",
       " '<a href=\"http://caselaw.findlaw.com/us-supreme-court/14-1418.html\" title=\"ZUBIK &lt;EM&gt; v. &lt;/EM&gt; BURWELL\">ZUBIK <em> v. </em> BURWELL</a></td>\\n',\n",
       " 'May 16, 2016</td>\\n',\n",
       " 'No. 14-1418</td>\\n</tr>, <tr class=\"srpcaselawtr\">\\n<td colspan=\"3\" style=\"border-top:1px solid #ddd;\" valign=\"top\">\\n<a class=\"viewmore\" href=\"http://caselaw.findlaw.com/court/us-supreme-court/recent\" title=\"View more decisions »\">View more decisions »</a>\\n</td>\\n</tr>]']"
      ]
     },
     "execution_count": 40,
     "metadata": {},
     "output_type": "execute_result"
    }
   ],
   "source": [
    "souped"
   ]
  },
  {
   "cell_type": "code",
   "execution_count": 139,
   "metadata": {
    "collapsed": false
   },
   "outputs": [],
   "source": [
    "import re\n",
    "def cleanup_results(text):\n",
    "    text2 = []\n",
    "    for i in text:\n",
    "        if i[:22] == '[<tr class=\"srpcaselaw':\n",
    "            continue\n",
    "        if i[:2] == '<a':\n",
    "                i = i.split('text-transform:uppercase=\"\" title=\"')\n",
    "                for j in i:\n",
    "                    j = j.replace('<a ', \"\").replace(\"</small>\", \"\").replace('&lt;SPAN STYLE=\">&gt;', \"\") \\\n",
    "                    .replace('<span style=\"TEXT-TRANSFORM: UPPERCASE\">', \"\").replace(\"\\n\", \"\").replace(\"<em>\", \"\").replace(\"</em>\",\"\") \\\n",
    "                    .replace('tr class=\"srpcaselawtr altrow\">', \"\").replace('<span style=\"TEXT-TRANSFORM: UPPERCASE\"><small>', \"\") \\\n",
    "                    .replace('href=\"', \"\").replace(\"</small>\", \"\").replace(\"</td>\", \"\").replace('\" ', \"\").replace(\"<small>\", \"\") \\\n",
    "                    .replace(\"</span>\", \"\").replace(\"</a>\", \"\").replace(\"&lt;EM&gt;v&lt;/EM&gt;\", \"\").replace(\"&lt;EM&gt; \", \"\") \\\n",
    "                    .replace(\"&lt;/EM&gt; \", \"\").replace(\"amp;AMP;\", \"\").replace(\">\", \"\")\n",
    "                    if re.search('title', j):\n",
    "                        j = j.split('title=\"')\n",
    "                        #text2.append(j)\n",
    "                    text2.append(j)\n",
    "        else:\n",
    "            i = i.replace('<span style=\"TEXT-TRANSFORM: UPPERCASE\">', \"\").replace(\"\\n\", \"\").replace(\"<em>\", \"\").replace(\"</em>\",\"\") \\\n",
    "            .replace('tr class=\"srpcaselawtr altrow\">', \"\").replace('<span style=\"TEXT-TRANSFORM: UPPERCASE\"><small>', \"\") \\\n",
    "            .replace('href=\"', \"\").replace(\"</small>\", \"\").replace(\"</td>\", \"\").replace(\"</tr>\", \"\") \\\n",
    "            .replace('<a ', \"\").replace(\"</small>\", \"\").replace('&lt;SPAN STYLE=\">&gt;', \"\").replace(', <tr class=\"srpcaselawtr\">', \"\") \\\n",
    "            .replace(\", <\", \"\")\n",
    "            text2.append(i)\n",
    "    return text2"
   ]
  },
  {
   "cell_type": "code",
   "execution_count": 144,
   "metadata": {
    "collapsed": false
   },
   "outputs": [
    {
     "name": "stdout",
     "output_type": "stream",
     "text": [
      "match\n"
     ]
    }
   ],
   "source": [
    "j = 'http:'\n",
    "if re.search('http', j):\n",
    "    print(\"match\")"
   ]
  },
  {
   "cell_type": "code",
   "execution_count": 163,
   "metadata": {
    "collapsed": false
   },
   "outputs": [],
   "source": [
    "case_detail_list = cleanup_results(souped)"
   ]
  },
  {
   "cell_type": "code",
   "execution_count": 169,
   "metadata": {
    "collapsed": false
   },
   "outputs": [
    {
     "name": "stdout",
     "output_type": "stream",
     "text": [
      "{'http://caselaw.findlaw.com/us-supreme-court/14-10078.html': ['JAIME CAETANO v. MASSACHUSETTS'], 'http://caselaw.findlaw.com/us-supreme-court/15-458.html': ['DIETZ . BOULDIN'], 'http://caselaw.findlaw.com/us-supreme-court/14-449.html': ['KANSAS . CARR'], 'http://caselaw.findlaw.com/us-supreme-court/14-8913.html': ['MOLINA-MARTINEZ . UNITED STATES'], 'http://caselaw.findlaw.com/us-supreme-court/14-181.html': ['GOBEILLE, CHAIR OF THE VERMONT GREEN MOUNTAIN CARE BOARD . LIBERTY MUTUAL INSURANCE CO.'], 'http://caselaw.findlaw.com/us-supreme-court/15-7786.html': ['CHRISTOPHER EUGENE BROOKS v. ALABAMA'], 'http://caselaw.findlaw.com/us-supreme-court/14-1375.html': ['CRST VAN EXPEDITED, INC. . EQUAL EMPLOYMENT OPPORTUNITY COMMISSION'], 'http://caselaw.findlaw.com/us-supreme-court/14-1095.html': ['MUSACCHIO . UNITED STATES'], 'http://caselaw.findlaw.com/us-supreme-court/14-857.html': ['CAMPBELL-EWALD CO. . GOMEZ'], 'http://caselaw.findlaw.com/us-supreme-court/15-861.html': ['UNITED STUDENT AID FUNDS, INC. v. BRYANA BIBLE'], 'http://caselaw.findlaw.com/us-supreme-court/14-280.html': ['MONTGOMERY . LOUISIANA'], 'http://caselaw.findlaw.com/us-supreme-court/14-361.html': ['OCASIO . UNITED STATES'], 'http://caselaw.findlaw.com/us-supreme-court/15-5238.html': ['NICHOLS . UNITED STATES'], 'http://caselaw.findlaw.com/us-supreme-court/15-446.html': ['CUOZZO SPEED TECHNOLOGIES, LLC . LEE, UNDER SECRETARY OF COMMERCE FOR INTELLECTUAL PROPERTY AND DIRECTOR, PATENT AND TRADEMARK OFFICE'], 'http://caselaw.findlaw.com/us-supreme-court/14-916.html': ['KINGDOMWARE TECHNOLOGIES, INC. . UNITED STATES'], 'http://caselaw.findlaw.com/us-supreme-court/15-5040.html': ['WILLIAMS . PENNSYLVANIA'], 'http://caselaw.findlaw.com/us-supreme-court/14-7505.html': ['HURST . FLORIDA'], 'http://caselaw.findlaw.com/us-supreme-court/14-1457.html': ['BETTERMAN . MONTANA'], 'http://caselaw.findlaw.com/us-supreme-court/15-6418.html': ['WELCH . UNITED STATES'], 'http://caselaw.findlaw.com/us-supreme-court/15-6092.html': ['MATHIS . UNITED STATES'], 'http://caselaw.findlaw.com/us-supreme-court/14-8349.html': ['FOSTER . CHATMAN, WARDEN'], 'http://caselaw.findlaw.com/us-supreme-court/14-10008.html': ['MICHAEL WEARRY v. BURL CAIN, WARDEN'], 'http://caselaw.findlaw.com/us-supreme-court/15-339.html': ['ROSS . BLAKE'], 'http://caselaw.findlaw.com/us-supreme-court/14-1516.html': ['STEPHEN DUNCAN, WARDEN, PETITIONER v. LAWRENCE OWENS'], 'http://caselaw.findlaw.com/us-supreme-court/15-712.html': ['ANNE MERCY KAKARALA v. WELLS FARGO BANK, N. A.'], 'http://caselaw.findlaw.com/us-supreme-court/14-1175.html': ['FRANCHISE TAX BOARD OF CALIFORNIA . HYATT'], 'http://caselaw.findlaw.com/us-supreme-court/15-789.html': ['DEBORAH K. JOHNSON, WARDEN v. DONNA KAY LEE'], 'http://caselaw.findlaw.com/us-supreme-court/14-8358.html': ['LOCKHART . UNITED STATES'], 'http://caselaw.findlaw.com/us-supreme-court/15-6289.html': ['RENALDO CHANTE ADAMS v. ALABAMA'], 'http://caselaw.findlaw.com/us-supreme-court/15-833.html': ['SCOTT KERNAN, SECRETARY, CALIFORNIA DE-PARTMENT OF CORRECTIONS AND REHABIL-ITATION v. ANTONIO A. HINOJOSA'], 'http://caselaw.findlaw.com/us-supreme-court/15-8119.html': ['RICHARD DELMER BOYER v. RONALD DAVIS, WARDEN'], 'http://caselaw.findlaw.com/us-supreme-court/13-1339.html': ['SPOKEO, INC. . ROBINS'], 'http://caselaw.findlaw.com/us-supreme-court/15-946.html': ['LAMONDRE TUCKER v. LOUISIANA'], 'http://caselaw.findlaw.com/us-supreme-court/14-6166.html': ['TAYLOR . UNITED STATES'], 'http://caselaw.findlaw.com/us-supreme-court/14-1096.html': ['LUNA TORRES . LYNCH, ATTORNEY GENERAL'], 'http://caselaw.findlaw.com/us-supreme-court/14-10486.html': ['CURTIS GIOVANNI FLOWERS v. MISSISSIPPI'], 'http://caselaw.findlaw.com/us-supreme-court/14-1373.html': ['UTAH . STRIEFF'], 'http://caselaw.findlaw.com/us-supreme-court/14-1418.html': ['ZUBIK v. BURWELL'], 'http://caselaw.findlaw.com/us-supreme-court/14-419.html': ['LUIS . UNITED STATES'], 'http://caselaw.findlaw.com/us-supreme-court/14-723.html': ['MONTANILE . BOARD OF TRUSTEES OF THE NATIONAL ELEVATOR INDUSTRY HEALTH BENEFIT PLAN'], 'http://caselaw.findlaw.com/us-supreme-court/14-9409.html': ['JABARI WILLIAMS v. LOUISIANA'], 'http://caselaw.findlaw.com/us-supreme-court/15-420.html': ['UNITED STATES . BRYANT'], 'http://caselaw.findlaw.com/us-supreme-court/15-145.html': ['HUSKY INTERNATIONAL ELECTRONICS, INC. . RITZ'], 'http://caselaw.findlaw.com/us-supreme-court/14-613.html': ['GREEN . BRENNAN, POSTMASTER GENERAL'], 'http://caselaw.findlaw.com/us-supreme-court/15-723.html': ['JEFFREY WOODS, WARDEN v. TIMOTHY ETHERTON'], 'http://caselaw.findlaw.com/us-supreme-court/15-8366.html': ['SHAWN PATRICK LYNCH v. ARIZONA'], 'http://caselaw.findlaw.com/us-supreme-court/14-1468.html': ['BIRCHFIELD . NORTH DAKOTA']}\n"
     ]
    }
   ],
   "source": [
    "cases = {}\n",
    "for i in case_detail_list:\n",
    "    if type(i) == type(list()):\n",
    "        j = i[1].split('\"')\n",
    "        j = j[0]\n",
    "        cases[i[0]] = [j]\n",
    "#     else:\n",
    "#         cases[j].append(i)\n",
    "\n",
    "print(cases)        \n",
    "        "
   ]
  },
  {
   "cell_type": "code",
   "execution_count": 135,
   "metadata": {
    "collapsed": true
   },
   "outputs": [],
   "source": [
    "supcourt = pd.DataFrame(souptitles,soupurls).reset_index()\n",
    "supcourt.columns = [[\"caseurl\", \"casetitle\"]]\n",
    "\n",
    "def cleanerup(text):\n",
    "    text = text.replace(\"<EM>\", \"\")\n",
    "    text = text.replace(\"<SPAN STYLE=\", \"\")\n",
    "    text = text.replace(\"</EM>\", \" \")\n",
    "    return text\n",
    "supcourt[\"casetitle\"] = supcourt.casetitle.apply(cleanerup)\n",
    "supcourt[\"years\"] = pd.Series(yearlist)"
   ]
  },
  {
   "cell_type": "code",
   "execution_count": 5,
   "metadata": {
    "collapsed": true
   },
   "outputs": [],
   "source": [
    "supcourt.to_pickle(\"supcourt_yearlist.pickle\")"
   ]
  },
  {
   "cell_type": "code",
   "execution_count": 9,
   "metadata": {
    "collapsed": false
   },
   "outputs": [
    {
     "data": {
      "text/plain": [
       "'http://caselaw.findlaw.com/us-supreme-court/15-338.html'"
      ]
     },
     "execution_count": 9,
     "metadata": {},
     "output_type": "execute_result"
    }
   ],
   "source": [
    "supcourt.ix[20607, \"caseurl\"]"
   ]
  },
  {
   "cell_type": "code",
   "execution_count": 10,
   "metadata": {
    "collapsed": true
   },
   "outputs": [],
   "source": [
    "supcourt.casetitle.to_csv(\"casetitles.csv\") # this was just for creating a stoplist for prepocessing "
   ]
  },
  {
   "cell_type": "code",
   "execution_count": 11,
   "metadata": {
    "collapsed": false
   },
   "outputs": [
    {
     "data": {
      "text/plain": [
       "(23268, 3)"
      ]
     },
     "execution_count": 11,
     "metadata": {},
     "output_type": "execute_result"
    }
   ],
   "source": [
    "supcourt.shape"
   ]
  },
  {
   "cell_type": "code",
   "execution_count": null,
   "metadata": {
    "collapsed": true
   },
   "outputs": [],
   "source": []
  }
 ],
 "metadata": {
  "kernelspec": {
   "display_name": "Python 3",
   "language": "python",
   "name": "python3"
  },
  "language_info": {
   "codemirror_mode": {
    "name": "ipython",
    "version": 3
   },
   "file_extension": ".py",
   "mimetype": "text/x-python",
   "name": "python",
   "nbconvert_exporter": "python",
   "pygments_lexer": "ipython3",
   "version": "3.5.1"
  }
 },
 "nbformat": 4,
 "nbformat_minor": 0
}
